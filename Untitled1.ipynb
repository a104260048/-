{
 "cells": [
  {
   "cell_type": "code",
   "execution_count": 7,
   "metadata": {},
   "outputs": [
    {
     "name": "stdout",
     "output_type": "stream",
     "text": [
      "請輸入數值80\n",
      "90\n"
     ]
    }
   ],
   "source": [
    "X = input(\"請輸入數值\")\n",
    "Number = int(X)\n",
    "if Number < 50 : \n",
    "    print(Number**(1/2)*10)\n",
    "else :\n",
    "    print(Number+10)"
   ]
  },
  {
   "cell_type": "code",
   "execution_count": 11,
   "metadata": {},
   "outputs": [
    {
     "name": "stdout",
     "output_type": "stream",
     "text": [
      "請輸入成績80\n",
      "B\n"
     ]
    }
   ],
   "source": [
    "X = input(\"請輸入成績\")\n",
    "Score = int(X)\n",
    "if 100 >= Score >=90 :\n",
    "    print(\"A\")\n",
    "elif 90 > Score >=80 :\n",
    "    print(\"B\")\n",
    "elif 80 > Score >=70 :\n",
    "    print(\"C\")\n",
    "elif 70 > Score >=60 :\n",
    "    print(\"D\")\n",
    "else :\n",
    "    print(\"E(不及格)\")"
   ]
  },
  {
   "cell_type": "code",
   "execution_count": 12,
   "metadata": {},
   "outputs": [
    {
     "name": "stdout",
     "output_type": "stream",
     "text": [
      "1 2 3 4 5 6 7 8 9 \n",
      "2 4 6 8 10 12 14 16 18 \n",
      "3 6 9 12 15 18 21 24 27 \n",
      "4 8 12 16 20 24 28 32 36 \n",
      "5 10 15 20 25 30 35 40 45 \n",
      "6 12 18 24 30 36 42 48 54 \n",
      "7 14 21 28 35 42 49 56 63 \n",
      "8 16 24 32 40 48 56 64 72 \n",
      "9 18 27 36 45 54 63 72 81 \n"
     ]
    }
   ],
   "source": [
    "for a in range(1, 10) :\n",
    "    for b in range(1, 10) :\n",
    "        print(a*b, end=' ')\n",
    "    print(end='\\n')"
   ]
  }
 ],
 "metadata": {
  "kernelspec": {
   "display_name": "Python 3",
   "language": "python",
   "name": "python3"
  },
  "language_info": {
   "codemirror_mode": {
    "name": "ipython",
    "version": 3
   },
   "file_extension": ".py",
   "mimetype": "text/x-python",
   "name": "python",
   "nbconvert_exporter": "python",
   "pygments_lexer": "ipython3",
   "version": "3.6.5"
  }
 },
 "nbformat": 4,
 "nbformat_minor": 2
}
